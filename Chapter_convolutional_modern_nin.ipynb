{
  "nbformat": 4,
  "nbformat_minor": 0,
  "metadata": {
    "colab": {
      "name": "Chapter_convolutional_modern_nin.ipynb",
      "provenance": [],
      "authorship_tag": "ABX9TyNFdMVeG9f/TYW+3+PD8Ojf",
      "include_colab_link": true
    },
    "kernelspec": {
      "name": "python3",
      "display_name": "Python 3"
    },
    "language_info": {
      "name": "python"
    }
  },
  "cells": [
    {
      "cell_type": "markdown",
      "metadata": {
        "id": "view-in-github",
        "colab_type": "text"
      },
      "source": [
        "<a href=\"https://colab.research.google.com/github/lahrie/PembelajaranMesin-Week-12/blob/main/Chapter_convolutional_modern_nin.ipynb\" target=\"_parent\"><img src=\"https://colab.research.google.com/assets/colab-badge.svg\" alt=\"Open In Colab\"/></a>"
      ]
    },
    {
      "cell_type": "code",
      "execution_count": null,
      "metadata": {
        "id": "ATqCwcXZeIuR"
      },
      "outputs": [],
      "source": [
        "!pip install d2l > d2l_install.out\n",
        "import torch\n",
        "from torch import nn\n",
        "from d2l import torch as d2l\n",
        "\n",
        "def nin_block(in_channels, out_channels, kernel_size, strides, padding):\n",
        "    return nn.Sequential(\n",
        "        nn.Conv2d(in_channels, out_channels, kernel_size, strides, padding),\n",
        "        nn.ReLU(), nn.Conv2d(out_channels, out_channels, kernel_size=1),\n",
        "        nn.ReLU(), nn.Conv2d(out_channels, out_channels, kernel_size=1),\n",
        "        nn.ReLU())"
      ]
    },
    {
      "cell_type": "code",
      "source": [
        "net = nnet = nn.Sequential(\n",
        "    nin_block(1, 96, kernel_size=11, strides=4, padding=0),\n",
        "    nn.MaxPool2d(3, stride=2),\n",
        "    nin_block(96, 256, kernel_size=5, strides=1, padding=2),\n",
        "    nn.MaxPool2d(3, stride=2),\n",
        "#     nin_block(256, 84, kernel_size=3, strides=1, padding=1),\n",
        "    nin_block(256, 10, kernel_size=3, strides=1, padding=1),\n",
        "    nn.MaxPool2d(3, stride=2), nn.Dropout(0.5),\n",
        "    # 标签类别数是10\n",
        "#     nin_block(84, 10, kernel_size=3, strides=1, padding=1),\n",
        "    nin_block(10, 10, kernel_size=3, strides=1, padding=1),\n",
        "    nn.AdaptiveAvgPool2d((1, 1)),\n",
        "    # 将四维的输出转成二维的输出，其形状为(批量大小, 10)\n",
        "    nn.Flatten())n.Sequential(\n",
        "    nin_block(1, 96, kernel_size=11, strides=4, padding=0),\n",
        "    nn.MaxPool2d(3, stride=2),\n",
        "    nin_block(96, 256, kernel_size=5, strides=1, padding=2),\n",
        "    nn.MaxPool2d(3, stride=2),\n",
        "#     nin_block(256, 84, kernel_size=3, strides=1, padding=1),\n",
        "    nin_block(256, 10, kernel_size=3, strides=1, padding=1),\n",
        "    nn.MaxPool2d(3, stride=2), nn.Dropout(0.5),\n",
        "    # 标签类别数是10\n",
        "#     nin_block(84, 10, kernel_size=3, strides=1, padding=1),\n",
        "    nin_block(10, 10, kernel_size=3, strides=1, padding=1),\n",
        "    nn.AdaptiveAvgPool2d((1, 1)),\n",
        "    # 将四维的输出转成二维的输出，其形状为(批量大小, 10)\n",
        "    nn.Flatten())"
      ],
      "metadata": {
        "id": "7BCKYDUueKBE"
      },
      "execution_count": null,
      "outputs": []
    },
    {
      "cell_type": "code",
      "source": [
        "X = torch.rand(size=(1, 1, 224, 224))\n",
        "for layer in net:\n",
        "    X = layer(X)\n",
        "    print(layer.__class__.__name__, 'output shape:\\t', X.shape)"
      ],
      "metadata": {
        "id": "G3mhRX9AeLO1"
      },
      "execution_count": null,
      "outputs": []
    },
    {
      "cell_type": "code",
      "source": [
        "lr, num_epochs, batch_size = 0.1, 10, 128\n",
        "train_iter, test_iter = d2l.load_data_fashion_mnist(batch_size, resize=224)\n",
        "d2l.train_ch6(net, train_iter, test_iter, num_epochs, lr, d2l.try_gpu())"
      ],
      "metadata": {
        "id": "ny-VvzrReNoE"
      },
      "execution_count": null,
      "outputs": []
    }
  ]
}